{
 "cells": [
  {
   "cell_type": "code",
   "execution_count": 10,
   "metadata": {},
   "outputs": [],
   "source": [
    "# import dependencies\n",
    "import numpy as np\n",
    "import pandas as pd\n",
    "import random"
   ]
  },
  {
   "cell_type": "code",
   "execution_count": 11,
   "metadata": {},
   "outputs": [],
   "source": [
    "def values_generator(rows,l_normal_range,u_normal_range,u_upper_range,l_lower_range,probability):\n",
    "    # number of rows of data required\n",
    "    # random values for Gas volume\n",
    "    test_values = np.round(np.random.uniform(l_normal_range,u_normal_range,rows),2)\n",
    "    # number of rows outside\n",
    "    num_outside = int(rows*probability)\n",
    "    # Generate random indices for the values to be replaced\n",
    "    indices_replace = np.random.choice(rows,num_outside, replace=False)\n",
    "    # calculate range below 3 ie between 2-3\n",
    "    lower_values=np.round(np.random.uniform(l_lower_range,l_normal_range,num_outside//2),2)\n",
    "    # calculate range above 4 between 4-5\n",
    "    upper_values = np.round(np.random.uniform(u_normal_range,u_upper_range,num_outside-num_outside//2),2)\n",
    "    # add values\n",
    "    total_values = np.concatenate((lower_values,upper_values))\n",
    "    # replace indices\n",
    "    test_values[indices_replace]=total_values\n",
    "    # print changed values\n",
    "    return test_values"
   ]
  },
  {
   "cell_type": "code",
   "execution_count": 12,
   "metadata": {},
   "outputs": [],
   "source": [
    "# Assuming 'package' is a function that formats the package size\n",
    "def package(size):\n",
    "    return f\"{size}ml\""
   ]
  },
  {
   "cell_type": "code",
   "execution_count": 13,
   "metadata": {},
   "outputs": [],
   "source": [
    "# production target\n",
    "def production_target(target):\n",
    "    return int(target)"
   ]
  },
  {
   "cell_type": "code",
   "execution_count": 14,
   "metadata": {},
   "outputs": [],
   "source": [
    "net = 250"
   ]
  },
  {
   "cell_type": "code",
   "execution_count": 15,
   "metadata": {},
   "outputs": [],
   "source": [
    "brix = values_generator(1000,11,10.60,11.5,10.30,0.05)\n",
    "gas_volume = values_generator(1000,3.85,3.60,4.0,3.50,0.05)\n",
    "torque = values_generator(1000,12,10,9,13,0.05)\n",
    "package = package(250)\n",
    "# Generating Sales\n",
    "sales = np.random.poisson(lam=400, size=1000)\n",
    "# Generating Stock Levels\n",
    "production_target = production_target(500)\n",
    "# net contents\n",
    "net_contents = [net * np.random.uniform(-0.4, 0.8) for net in range(1,1001)]\n",
    "\n"
   ]
  },
  {
   "cell_type": "code",
   "execution_count": 16,
   "metadata": {},
   "outputs": [],
   "source": [
    "# create data frame\n",
    "quality_test = pd.DataFrame({\"package\":package,\n",
    "                             \"gas\":gas_volume,\n",
    "                                    \"brix\":brix,\n",
    "                                    \"avg_torque\":torque,\n",
    "                                    \"avg_net_contents\":net_contents,\n",
    "                                    \"production\":sales,\n",
    "                                    \"target_production\":production_target\n",
    "                                    })"
   ]
  },
  {
   "cell_type": "code",
   "execution_count": 17,
   "metadata": {},
   "outputs": [],
   "source": [
    "quality_test['yield']=quality_test['production']/quality_test['target_production']*100"
   ]
  },
  {
   "cell_type": "code",
   "execution_count": 18,
   "metadata": {},
   "outputs": [
    {
     "data": {
      "text/html": [
       "<div>\n",
       "<style scoped>\n",
       "    .dataframe tbody tr th:only-of-type {\n",
       "        vertical-align: middle;\n",
       "    }\n",
       "\n",
       "    .dataframe tbody tr th {\n",
       "        vertical-align: top;\n",
       "    }\n",
       "\n",
       "    .dataframe thead th {\n",
       "        text-align: right;\n",
       "    }\n",
       "</style>\n",
       "<table border=\"1\" class=\"dataframe\">\n",
       "  <thead>\n",
       "    <tr style=\"text-align: right;\">\n",
       "      <th></th>\n",
       "      <th>package</th>\n",
       "      <th>gas</th>\n",
       "      <th>brix</th>\n",
       "      <th>avg_torque</th>\n",
       "      <th>avg_net_contents</th>\n",
       "      <th>production</th>\n",
       "      <th>target_production</th>\n",
       "      <th>yield</th>\n",
       "    </tr>\n",
       "  </thead>\n",
       "  <tbody>\n",
       "    <tr>\n",
       "      <th>0</th>\n",
       "      <td>250ml</td>\n",
       "      <td>3.83</td>\n",
       "      <td>10.79</td>\n",
       "      <td>10.46</td>\n",
       "      <td>0.596990</td>\n",
       "      <td>432</td>\n",
       "      <td>500</td>\n",
       "      <td>86.4</td>\n",
       "    </tr>\n",
       "    <tr>\n",
       "      <th>1</th>\n",
       "      <td>250ml</td>\n",
       "      <td>3.63</td>\n",
       "      <td>10.73</td>\n",
       "      <td>11.15</td>\n",
       "      <td>0.966454</td>\n",
       "      <td>406</td>\n",
       "      <td>500</td>\n",
       "      <td>81.2</td>\n",
       "    </tr>\n",
       "    <tr>\n",
       "      <th>2</th>\n",
       "      <td>250ml</td>\n",
       "      <td>3.62</td>\n",
       "      <td>10.97</td>\n",
       "      <td>10.52</td>\n",
       "      <td>0.816835</td>\n",
       "      <td>430</td>\n",
       "      <td>500</td>\n",
       "      <td>86.0</td>\n",
       "    </tr>\n",
       "    <tr>\n",
       "      <th>3</th>\n",
       "      <td>250ml</td>\n",
       "      <td>3.69</td>\n",
       "      <td>10.74</td>\n",
       "      <td>10.36</td>\n",
       "      <td>0.142363</td>\n",
       "      <td>421</td>\n",
       "      <td>500</td>\n",
       "      <td>84.2</td>\n",
       "    </tr>\n",
       "    <tr>\n",
       "      <th>4</th>\n",
       "      <td>250ml</td>\n",
       "      <td>3.65</td>\n",
       "      <td>10.70</td>\n",
       "      <td>11.55</td>\n",
       "      <td>2.597885</td>\n",
       "      <td>424</td>\n",
       "      <td>500</td>\n",
       "      <td>84.8</td>\n",
       "    </tr>\n",
       "  </tbody>\n",
       "</table>\n",
       "</div>"
      ],
      "text/plain": [
       "  package   gas   brix  avg_torque  avg_net_contents  production  \\\n",
       "0   250ml  3.83  10.79       10.46          0.596990         432   \n",
       "1   250ml  3.63  10.73       11.15          0.966454         406   \n",
       "2   250ml  3.62  10.97       10.52          0.816835         430   \n",
       "3   250ml  3.69  10.74       10.36          0.142363         421   \n",
       "4   250ml  3.65  10.70       11.55          2.597885         424   \n",
       "\n",
       "   target_production  yield  \n",
       "0                500   86.4  \n",
       "1                500   81.2  \n",
       "2                500   86.0  \n",
       "3                500   84.2  \n",
       "4                500   84.8  "
      ]
     },
     "execution_count": 18,
     "metadata": {},
     "output_type": "execute_result"
    }
   ],
   "source": [
    "quality_test.head()"
   ]
  }
 ],
 "metadata": {
  "kernelspec": {
   "display_name": "base",
   "language": "python",
   "name": "python3"
  },
  "language_info": {
   "codemirror_mode": {
    "name": "ipython",
    "version": 3
   },
   "file_extension": ".py",
   "mimetype": "text/x-python",
   "name": "python",
   "nbconvert_exporter": "python",
   "pygments_lexer": "ipython3",
   "version": "3.11.4"
  }
 },
 "nbformat": 4,
 "nbformat_minor": 2
}
